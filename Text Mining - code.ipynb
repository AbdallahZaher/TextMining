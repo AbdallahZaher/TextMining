{
 "cells": [
  {
   "cell_type": "markdown",
   "metadata": {},
   "source": [
    "<center><h1 style='color: #36A7A2; font-size: 50px'>Text Mining</h1></center>\n",
    "<center><h2 style='color: #434e52'>Group Project</h2></center>\n",
    "<center><h5 style='font-weight:normal; font-style: normal;'>Abdallah Zaher, M20190684</h5></center>\n",
    "<center><h5 style='font-weight:normal; font-style: normal;'>Cristina Mousinho, M20190303</h5></center>\n",
    "<center><h5 style='font-weight:normal; font-style: normal;'>Gabriel Ravi, M20190925</h5></center>"
   ]
  },
  {
   "cell_type": "markdown",
   "metadata": {},
   "source": [
    "<h3 style='color: #434e52'>Initial Preprocessing</h3>\n",
    "\n",
    "\n",
    "\n",
    "1. Normalization\n",
    "• Replace links with a special token\n",
    "• Normalize Dates\n",
    "\n",
    "2. Lowercasing\n",
    " \n",
    "3. Tokenization:\n",
    "• Compounds\n",
    "• Punctuation\n",
    "\n",
    "4. Remove Stop-Words\n",
    "\n",
    "5. Stemming and lemmatisation\n",
    "\n",
    "6. POS filtering"
   ]
  },
  {
   "cell_type": "code",
   "execution_count": 1,
   "metadata": {},
   "outputs": [],
   "source": [
    "import nltk\n",
    "import pandas as pd\n",
    "import os\n",
    "pd.options.display.max_colwidth = 500"
   ]
  },
  {
   "cell_type": "code",
   "execution_count": 121,
   "metadata": {},
   "outputs": [
    {
     "data": {
      "text/html": [
       "<div>\n",
       "<style scoped>\n",
       "    .dataframe tbody tr th:only-of-type {\n",
       "        vertical-align: middle;\n",
       "    }\n",
       "\n",
       "    .dataframe tbody tr th {\n",
       "        vertical-align: top;\n",
       "    }\n",
       "\n",
       "    .dataframe thead th {\n",
       "        text-align: right;\n",
       "    }\n",
       "</style>\n",
       "<table border=\"1\" class=\"dataframe\">\n",
       "  <thead>\n",
       "    <tr style=\"text-align: right;\">\n",
       "      <th></th>\n",
       "      <th>Author</th>\n",
       "      <th>Text</th>\n",
       "    </tr>\n",
       "  </thead>\n",
       "  <tbody>\n",
       "  </tbody>\n",
       "</table>\n",
       "</div>"
      ],
      "text/plain": [
       "Empty DataFrame\n",
       "Columns: [Author, Text]\n",
       "Index: []"
      ]
     },
     "execution_count": 121,
     "metadata": {},
     "output_type": "execute_result"
    }
   ],
   "source": [
    "train_df = pd.DataFrame(columns=['Author', 'Text'])\n",
    "train_df"
   ]
  },
  {
   "cell_type": "code",
   "execution_count": 122,
   "metadata": {},
   "outputs": [],
   "source": [
    "author_list = ['AlmadaNegreiros','CamiloCasteloBranco','EcaDeQueiros','JoseRodriguesSantos',\n",
    "               'JoseSaramago','LuisaMarquesSilva']\n",
    "\n",
    "for author in author_list:\n",
    "    go_to = './Train/'+author\n",
    "    for filename in os.listdir(go_to):\n",
    "        open_filename = go_to+\"/\"+filename\n",
    "        f = open(open_filename, \"r\", encoding=\"utf-8\")\n",
    "        train_df = train_df.append({'Author': author, 'Text': f.read()}, ignore_index=True)\n",
    "        f.close()"
   ]
  },
  {
   "cell_type": "code",
   "execution_count": 123,
   "metadata": {
    "scrolled": true
   },
   "outputs": [
    {
     "data": {
      "text/plain": [
       "<bound method NDFrame.head of                Author  \\\n",
       "0     AlmadaNegreiros   \n",
       "1     AlmadaNegreiros   \n",
       "2     AlmadaNegreiros   \n",
       "3     AlmadaNegreiros   \n",
       "4     AlmadaNegreiros   \n",
       "..                ...   \n",
       "58  LuisaMarquesSilva   \n",
       "59  LuisaMarquesSilva   \n",
       "60  LuisaMarquesSilva   \n",
       "61  LuisaMarquesSilva   \n",
       "62  LuisaMarquesSilva   \n",
       "\n",
       "                                                                                                                                                                                                                                                                                                                                                                                                                                                                                                                   Text  \n",
       "0   Title: A Scena do Odio\\n\\nAuthor: José de Almada Negreiros\\n\\nRelease Date: September 16, 2007 [EBook #22615]\\n\\nLanguage: Portuguese\\n\\n\\n\\n\\nA ALVARO DE CAMPOS\\n\\n_Excerptos de um poema desbaratado\\nque foi escripto durante os\\ntrês dias e as três noites que durou\\na revolução de 14 de Maio de 1915._\\n\\n\\nSatanizo-Me Tara na Vara de Moysés!\\nO castigo das serpentes é-Me riso nos dentes,\\nInferno a arder o Meu cantar!\\nSou Vermelho-Niagára dos sexos escancarados nos chicotes dos cossacos!\\n...  \n",
       "1   Title: O Jardim da Pierrette\\n\\nAuthor: José de Almada Negreiros\\n\\nRelease Date: September 23, 2007 [EBook #22730]\\n\\nLanguage: Portuguese\\n\\n\\n\\n\\n\\n+Argumento do bailado+\\n\\n\\nPierrot n'aquella noite depois de muito pensar disse que queria\\nmorrer. Pierrot, coitado, tinha razão: Um dia inteiro sem ver\\nPierrette não é viver!\\n\\nDeitou-se muito cançado n'um jardim qualquer. Havia luz no\\npalacio e uma linda menina a fazer serão. Pois logo quiz\\nDeus Nosso Senhor que fôsse _O JARDIM DE PIER...  \n",
       "2   \\n\\nTitle: A Invenção do Dia Claro\\n\\nAuthor: José de Almada Negreiros\\n\\nRelease Date: September 29, 2007 [EBook #22801]\\n\\nLanguage: Portuguese\\n\\n\\n\\n\\n\\n\\nEscripta de uma só maneira para todas as espécies de orgulho,\\nseguida das démarches para a Invenção e acompanhada das confidencias\\nmais intimas e geraes.\\n\\nEnsaios para a iniciação de portuguezes na revelação da pintura\\n\\nCom um retrato do autor por elle-proprio\\n\\n\\nprimeiro milhar\\n\\n\\nLISBÔA\\n\"OLISIPO\", APARTADO 145\\n\\n1921\\n\\n\\...  \n",
       "3   \\nTitle: Litoral\\n       A Amadeo de Souza Cardozo\\n\\nAuthor: José de Almada Negreiros\\n\\nContributor: Amadeu de Sousa Cardoso\\n\\nRelease Date: September 29, 2007 [EBook #22802]\\n\\nLanguage: Portuguese\\n\\n\\n\\n\\n\\n\\nespasmos de praiamar transbordam invasão\\na areia mergulha pró fundo do Mar plos olhos do\\n                                         pirata\\n                             desvirgados á prôa\\nMaresia    cio do Mar\\n           qué da vela Latina?\\n           Sinhora da Livramento\\n   ...  \n",
       "4   \\n\\n\\nEXPOSIÇÃO\\n\\n+amadeo\\nde souza\\ncardoso+\\n\\nLIGA NAVAL DE LISBOA\\n\\n\\nEm Portugal existe uma unica opinião sobre Arte e abrange uma tão\\ncolossal maioria que receio que ella impere por esmagamento. Essa\\nopinião é a do Ex.^mo sr. dr. José de Figueiredo (gago do governo).\\n\\nNão é porque este snr tenha opinião nem que este snr seja da igualha\\ndo resto de Portugal mas o resto de Portugal e este senhor em materia\\nde opinião são da mesma igualha. Um dia um senhor grisalho disse-me em\\nme...  \n",
       "..                                                                                                                                                                                                                                                                                                                                                                                                                                                                                                                  ...  \n",
       "58  Título\\ne-medo\\n\\nAutora (inspiradíssima)\\nLuísa Marques da Silva\\n\\nTodos os direitos reservados ©2015 Luísa Marques da Silva\\n\\nCapa\\nVersão editada – Gráfica Comercial – Loulé\\n\\n2ª edição\\nLisboa, Setembro de 2015\\n\\nWNFE\\nhttp://wnfe.my-free.website\\n\\nEsta edição pode e deve ser distribuída por todas as alminhas que a quiserem ler.\\nComentários, em especial os porreiros, podem ser enviados para wnfe@sapo.pt\\n\\n\\n\\n\\nAs mensagens que se seguem foram enviadas da caixa de correio electrón...  \n",
       "59  LISBOA 2050\\nLisboa, ano de 2050. Um Agosto tão gelado como há vinte anos atrás. Um dia vinte e três tão triste como sempre. Umas seis e um quarto da manhã carregadas de geada e desconsolo.\\nAlfredo levantou se novamente com a sensação de não saber onde estava. Demorou uns minutos a focar os velhos olhos no quarto sofisticado e impessoal que o albergava desde há cinco anos, mas cuja decoração contava com alguns objectos que conseguira guardar do seu passado: o pesado e valioso espelho francê...  \n",
       "60  Título\\nUm passeio pelo inferno\\n\\nAutora\\nLuísa Marques da Silva\\n\\nTodos os direitos reservados ©2015 Luísa Marques da Silva\\n\\nCapa\\n(darling, repara, não há capa)\\n\\n2ª edição\\nLisboa, Setembro de 2015\\n\\nWNFE\\nhttp://wnfe.my-free.website\\n\\nEsta edição pode e deve ser distribuída por todas as alminhas que a quiserem ler.\\nComentários, em especial os porreiros, podem ser enviados para wnfe@sapo.pt\\n\\n\\n\\nImaginem uma planície cujos limites se perdem.\\nImaginem areia. Areia e mais areia. ...  \n",
       "61  Título\\nRapsódia sem dó (maior)\\n\\nAutora\\nLuísa Marques da Silva\\n\\nTodos os direitos reservados ©2015 Luísa Marques da Silva\\n\\nCapa Invisível\\nHomem Invisível\\n\\n1ª edição on-line desta versão\\nLisboa, Outubro de 2015\\n\\nWNFE\\nhttp://wnfe.my-free.website\\n\\nEsta edição pode e deve ser distribuída por todas as alminhas que a quiserem ler.\\nComentários, em especial os porreiros, podem ser enviados para wnfe@sapo.pt\\n\\n\\n\\n\\nGravação número 1 de Mia Torres:\\nDoravante, as variáveis HUM, ORC,...  \n",
       "62  Título\\nA última história\\n\\nAutora (próximo Nobel)\\nLuísa Marques da Silva\\n\\nTodos os direitos reservados ©2015 Luísa Marques da Silva\\n\\nCapa\\nLuísa Marques da Silva\\n\\n2ª edição\\nLisboa, Outubro de 2015\\n\\nWNFE\\nhttp://wnfe.my-free.website\\n\\nEsta edição pode e deve ser distribuída por todas as alminhas que a quiserem ler.\\nComentários, em especial os porreiros, podem ser enviados para wnfe@sapo.pt\\n\\n\\n\\nA ÚLTIMA HISTÓRIA\\nO PEQUENO ALMOÇO\\nNo dia em que começou a escrever o último capí...  \n",
       "\n",
       "[63 rows x 2 columns]>"
      ]
     },
     "execution_count": 123,
     "metadata": {},
     "output_type": "execute_result"
    }
   ],
   "source": [
    "train_df.head"
   ]
  },
  {
   "cell_type": "code",
   "execution_count": 124,
   "metadata": {},
   "outputs": [
    {
     "data": {
      "text/plain": [
       "(63, 2)"
      ]
     },
     "execution_count": 124,
     "metadata": {},
     "output_type": "execute_result"
    }
   ],
   "source": [
    "train_df.shape"
   ]
  },
  {
   "cell_type": "code",
   "execution_count": 125,
   "metadata": {},
   "outputs": [],
   "source": [
    "# import nltk\n",
    "# nltk.download()"
   ]
  },
  {
   "cell_type": "code",
   "execution_count": 126,
   "metadata": {},
   "outputs": [],
   "source": [
    "from nltk.corpus import stopwords\n",
    "from nltk.stem.wordnet import WordNetLemmatizer\n",
    "from nltk.tokenize import word_tokenize\n",
    "from nltk.corpus import wordnet\n",
    "from nltk.stem import SnowballStemmer\n",
    "from bs4 import BeautifulSoup\n",
    "import string\n",
    "from tqdm import tqdm_notebook as tqdm\n",
    "import re "
   ]
  },
  {
   "cell_type": "code",
   "execution_count": 127,
   "metadata": {},
   "outputs": [],
   "source": [
    "def label_counter(dataframe, field):\n",
    "    \"\"\"\n",
    "    Function that receives a dataframe and the field whose labels you want to count and\n",
    "    returns the number of positive and negative reviews in the Pandas dataframe.\n",
    "    \"\"\"\n",
    "    return train_df['Author'].value_counts()\n",
    "# label_counter(train_df, \"Author\")"
   ]
  },
  {
   "cell_type": "code",
   "execution_count": 128,
   "metadata": {},
   "outputs": [],
   "source": [
    "def word_counter(text_list):\n",
    "    \"\"\"\n",
    "    Function that receives a list of strings and returns the frequency of each word\n",
    "    in the set of all strings.\n",
    "    \"\"\"\n",
    "    words_in_df = ' '.join(text_list).split()\n",
    "    # Count all words \n",
    "    freq = pd.Series(words_in_df).value_counts()\n",
    "    return freq\n",
    "# word_counter(list(train_df['Text']))[:25]"
   ]
  },
  {
   "cell_type": "code",
   "execution_count": 129,
   "metadata": {},
   "outputs": [],
   "source": [
    "stop = set(stopwords.words('portuguese'))\n",
    "# exclude = set(string.punctuation)\n",
    "lemma = WordNetLemmatizer()\n",
    "snowball_stemmer = SnowballStemmer('portuguese')"
   ]
  },
  {
   "cell_type": "code",
   "execution_count": 154,
   "metadata": {},
   "outputs": [],
   "source": [
    "def clean(text_list, lemmatize, stemmer):\n",
    "    updates = []\n",
    "    for j in tqdm(range(len(text_list))):\n",
    "        \n",
    "        text = text_list[j]\n",
    "        text = text.lower()\n",
    "        text = re.sub(\"[^a-zA-Z0-9µùàçéèçÇ'\\u00B5-\\u00FF.,]\", ' ', text)\n",
    "        text = BeautifulSoup(text).get_text()\n",
    "        text = text.split()\n",
    "        \n",
    "        if lemmatize:\n",
    "#             text = \" \".join(lemma.lemmatize(word) for word in text.split())\n",
    "            lem = WordNetLemmatizer()\n",
    "            text = [lem.lemmatize(word) for word in text if not word in stop] \n",
    "            text = \" \".join(text)\n",
    "            updates.append(text)\n",
    "        \n",
    "        if stemmer:\n",
    "            text = \" \".join(snowball_stemmer.stem(word) for word in text.split())\n",
    "        \n",
    "        updates.append(text)\n",
    "        \n",
    "    return updates\n",
    "\n",
    "def update_df(dataframe, list_updated):\n",
    "    dataframe.update(pd.DataFrame({\"Text\": list_updated}))"
   ]
  },
  {
   "cell_type": "code",
   "execution_count": 155,
   "metadata": {},
   "outputs": [
    {
     "data": {
      "application/vnd.jupyter.widget-view+json": {
       "model_id": "918ba040b5924f14a34a7622fa9a7d4b",
       "version_major": 2,
       "version_minor": 0
      },
      "text/plain": [
       "HBox(children=(IntProgress(value=0, max=63), HTML(value='')))"
      ]
     },
     "metadata": {},
     "output_type": "display_data"
    },
    {
     "name": "stdout",
     "output_type": "stream",
     "text": [
      "\n"
     ]
    }
   ],
   "source": [
    "updates = clean(train_df[\"Text\"], lemmatize = True, stemmer = False)"
   ]
  },
  {
   "cell_type": "code",
   "execution_count": 156,
   "metadata": {},
   "outputs": [
    {
     "data": {
      "text/html": [
       "<div>\n",
       "<style scoped>\n",
       "    .dataframe tbody tr th:only-of-type {\n",
       "        vertical-align: middle;\n",
       "    }\n",
       "\n",
       "    .dataframe tbody tr th {\n",
       "        vertical-align: top;\n",
       "    }\n",
       "\n",
       "    .dataframe thead th {\n",
       "        text-align: right;\n",
       "    }\n",
       "</style>\n",
       "<table border=\"1\" class=\"dataframe\">\n",
       "  <thead>\n",
       "    <tr style=\"text-align: right;\">\n",
       "      <th></th>\n",
       "      <th>Author</th>\n",
       "      <th>Text</th>\n",
       "      <th>Total_words</th>\n",
       "      <th>,</th>\n",
       "    </tr>\n",
       "  </thead>\n",
       "  <tbody>\n",
       "    <tr>\n",
       "      <td>0</td>\n",
       "      <td>AlmadaNegreiros</td>\n",
       "      <td>title scena odio author josé almada negreiros release date september 16 2007 ebook 22615 language portuguese alvaro campos excerptos poema desbaratado escripto durante três dia três noites durou revolução 14 maio 1915 satanizo tara vara moysés castigo serpentes riso dentes inferno arder cantar vermelho niagára sexos escancarados chicotes cossacos pan demonio trifauce enfermiço gula genio zarathustra taças maré alta raiva medusa damnação sol ladram vida vivê la deram lat la sina agora quero v...</td>\n",
       "      <td>1173</td>\n",
       "      <td>0</td>\n",
       "    </tr>\n",
       "    <tr>\n",
       "      <td>1</td>\n",
       "      <td>AlmadaNegreiros</td>\n",
       "      <td>title scena odio author josé almada negreiros release date september 16 2007 ebook 22615 language portuguese alvaro campos excerptos poema desbaratado escripto durante três dia três noites durou revolução 14 maio 1915 satanizo tara vara moysés castigo serpentes riso dentes inferno arder cantar vermelho niagára sexos escancarados chicotes cossacos pan demonio trifauce enfermiço gula genio zarathustra taças maré alta raiva medusa damnação sol ladram vida vivê la deram lat la sina agora quero v...</td>\n",
       "      <td>1173</td>\n",
       "      <td>0</td>\n",
       "    </tr>\n",
       "    <tr>\n",
       "      <td>2</td>\n",
       "      <td>AlmadaNegreiros</td>\n",
       "      <td>title scena odio author josé almada negreiros release date september 16 2007 ebook 22615 language portuguese alvaro campos excerptos poema desbaratado escripto durante três dia três noites durou revolução 14 maio 1915 satanizo tara vara moysés castigo serpentes riso dentes inferno arder cantar vermelho niagára sexos escancarados chicotes cossacos pan demonio trifauce enfermiço gula genio zarathustra taças maré alta raiva medusa damnação sol ladram vida vivê la deram lat la sina agora quero v...</td>\n",
       "      <td>193</td>\n",
       "      <td>0</td>\n",
       "    </tr>\n",
       "    <tr>\n",
       "      <td>3</td>\n",
       "      <td>AlmadaNegreiros</td>\n",
       "      <td>title scena odio author josé almada negreiros release date september 16 2007 ebook 22615 language portuguese alvaro campos excerptos poema desbaratado escripto durante três dia três noites durou revolução 14 maio 1915 satanizo tara vara moysés castigo serpentes riso dentes inferno arder cantar vermelho niagára sexos escancarados chicotes cossacos pan demonio trifauce enfermiço gula genio zarathustra taças maré alta raiva medusa damnação sol ladram vida vivê la deram lat la sina agora quero v...</td>\n",
       "      <td>193</td>\n",
       "      <td>0</td>\n",
       "    </tr>\n",
       "    <tr>\n",
       "      <td>4</td>\n",
       "      <td>AlmadaNegreiros</td>\n",
       "      <td>title jardim pierrette author josé almada negreiros release date september 23 2007 ebook 22730 language portuguese argumento bailado pierrot n'aquella noite pensar disse queria morrer pierrot coitado razão dia inteiro ver pierrette viver deitou cançado n'um jardim qualquer havia luz palacio linda menina fazer poi logo quiz deus senhor fôsse jardim pierrette pierrot quiz acreditar ficou contente procurou pedrinha atirou pierrette ouviu espreitou viu ninguem porque pierrot escondido canteiros ...</td>\n",
       "      <td>3276</td>\n",
       "      <td>0</td>\n",
       "    </tr>\n",
       "    <tr>\n",
       "      <td>...</td>\n",
       "      <td>...</td>\n",
       "      <td>...</td>\n",
       "      <td>...</td>\n",
       "      <td>...</td>\n",
       "    </tr>\n",
       "    <tr>\n",
       "      <td>58</td>\n",
       "      <td>LuisaMarquesSilva</td>\n",
       "      <td>obras camillo castello branco novella minho volume i segunda edição lisboa parceria antonio maria pereira livraria editora rua augusta 50 52 54 1903 obras camillo castello branco edição popular xvii novella minho volume publicados i coisas espantosas ii tres irmans iii engeitada iv doze casamentos felizes v esqueleto vi bem mal vii senhor paço ninães viii anathema ix mulher fatal x cavar ruinas xi correspondencia epistolar xii xiii divindade jesus xiv doida candal xv duas horas leitura xvi f...</td>\n",
       "      <td>39775</td>\n",
       "      <td>0</td>\n",
       "    </tr>\n",
       "    <tr>\n",
       "      <td>59</td>\n",
       "      <td>LuisaMarquesSilva</td>\n",
       "      <td>obras camillo castello branco novella minho volume i segunda edição lisboa parceria antonio maria pereira livraria editora rua augusta 50 52 54 1903 obras camillo castello branco edição popular xvii novella minho volume publicados i coisas espantosas ii tres irmans iii engeitada iv doze casamentos felizes v esqueleto vi bem mal vii senhor paço ninães viii anathema ix mulher fatal x cavar ruinas xi correspondencia epistolar xii xiii divindade jesus xiv doida candal xv duas horas leitura xvi f...</td>\n",
       "      <td>39775</td>\n",
       "      <td>0</td>\n",
       "    </tr>\n",
       "    <tr>\n",
       "      <td>60</td>\n",
       "      <td>LuisaMarquesSilva</td>\n",
       "      <td>scenas contemporaneas camillo castello branco 2 edição porto casa cruz coutinho editor rua caldeireiros n 18 20 1862 porto typographia antonio josé silva teixeira rua cancella velha n 62 morrer capricho i amigo certo sabem caçar coelhos neve admira imaginem qualquer aldêa visinhanças marão olhem redor si contemplem quadro viajantes suissa descrevem todos dia supposto nunca sahissem terra primeira impressão recebem assombro leguas roda terra céo descobre crista rochedo frança d'uma arvore dob...</td>\n",
       "      <td>26441</td>\n",
       "      <td>0</td>\n",
       "    </tr>\n",
       "    <tr>\n",
       "      <td>61</td>\n",
       "      <td>LuisaMarquesSilva</td>\n",
       "      <td>scenas contemporaneas camillo castello branco 2 edição porto casa cruz coutinho editor rua caldeireiros n 18 20 1862 porto typographia antonio josé silva teixeira rua cancella velha n 62 morrer capricho i amigo certo sabem caçar coelhos neve admira imaginem qualquer aldêa visinhanças marão olhem redor si contemplem quadro viajantes suissa descrevem todos dia supposto nunca sahissem terra primeira impressão recebem assombro leguas roda terra céo descobre crista rochedo frança d'uma arvore dob...</td>\n",
       "      <td>26441</td>\n",
       "      <td>0</td>\n",
       "    </tr>\n",
       "    <tr>\n",
       "      <td>62</td>\n",
       "      <td>LuisaMarquesSilva</td>\n",
       "      <td>scenas contemporaneas camillo castello branco 2 edição porto casa cruz coutinho editor rua caldeireiros n 18 20 1862 porto typographia antonio josé silva teixeira rua cancella velha n 62 morrer capricho i amigo certo sabem caçar coelhos neve admira imaginem qualquer aldêa visinhanças marão olhem redor si contemplem quadro viajantes suissa descrevem todos dia supposto nunca sahissem terra primeira impressão recebem assombro leguas roda terra céo descobre crista rochedo frança d'uma arvore dob...</td>\n",
       "      <td>31850</td>\n",
       "      <td>0</td>\n",
       "    </tr>\n",
       "  </tbody>\n",
       "</table>\n",
       "<p>63 rows × 4 columns</p>\n",
       "</div>"
      ],
      "text/plain": [
       "               Author  \\\n",
       "0     AlmadaNegreiros   \n",
       "1     AlmadaNegreiros   \n",
       "2     AlmadaNegreiros   \n",
       "3     AlmadaNegreiros   \n",
       "4     AlmadaNegreiros   \n",
       "..                ...   \n",
       "58  LuisaMarquesSilva   \n",
       "59  LuisaMarquesSilva   \n",
       "60  LuisaMarquesSilva   \n",
       "61  LuisaMarquesSilva   \n",
       "62  LuisaMarquesSilva   \n",
       "\n",
       "                                                                                                                                                                                                                                                                                                                                                                                                                                                                                                                   Text  \\\n",
       "0   title scena odio author josé almada negreiros release date september 16 2007 ebook 22615 language portuguese alvaro campos excerptos poema desbaratado escripto durante três dia três noites durou revolução 14 maio 1915 satanizo tara vara moysés castigo serpentes riso dentes inferno arder cantar vermelho niagára sexos escancarados chicotes cossacos pan demonio trifauce enfermiço gula genio zarathustra taças maré alta raiva medusa damnação sol ladram vida vivê la deram lat la sina agora quero v...   \n",
       "1   title scena odio author josé almada negreiros release date september 16 2007 ebook 22615 language portuguese alvaro campos excerptos poema desbaratado escripto durante três dia três noites durou revolução 14 maio 1915 satanizo tara vara moysés castigo serpentes riso dentes inferno arder cantar vermelho niagára sexos escancarados chicotes cossacos pan demonio trifauce enfermiço gula genio zarathustra taças maré alta raiva medusa damnação sol ladram vida vivê la deram lat la sina agora quero v...   \n",
       "2   title scena odio author josé almada negreiros release date september 16 2007 ebook 22615 language portuguese alvaro campos excerptos poema desbaratado escripto durante três dia três noites durou revolução 14 maio 1915 satanizo tara vara moysés castigo serpentes riso dentes inferno arder cantar vermelho niagára sexos escancarados chicotes cossacos pan demonio trifauce enfermiço gula genio zarathustra taças maré alta raiva medusa damnação sol ladram vida vivê la deram lat la sina agora quero v...   \n",
       "3   title scena odio author josé almada negreiros release date september 16 2007 ebook 22615 language portuguese alvaro campos excerptos poema desbaratado escripto durante três dia três noites durou revolução 14 maio 1915 satanizo tara vara moysés castigo serpentes riso dentes inferno arder cantar vermelho niagára sexos escancarados chicotes cossacos pan demonio trifauce enfermiço gula genio zarathustra taças maré alta raiva medusa damnação sol ladram vida vivê la deram lat la sina agora quero v...   \n",
       "4   title jardim pierrette author josé almada negreiros release date september 23 2007 ebook 22730 language portuguese argumento bailado pierrot n'aquella noite pensar disse queria morrer pierrot coitado razão dia inteiro ver pierrette viver deitou cançado n'um jardim qualquer havia luz palacio linda menina fazer poi logo quiz deus senhor fôsse jardim pierrette pierrot quiz acreditar ficou contente procurou pedrinha atirou pierrette ouviu espreitou viu ninguem porque pierrot escondido canteiros ...   \n",
       "..                                                                                                                                                                                                                                                                                                                                                                                                                                                                                                                  ...   \n",
       "58  obras camillo castello branco novella minho volume i segunda edição lisboa parceria antonio maria pereira livraria editora rua augusta 50 52 54 1903 obras camillo castello branco edição popular xvii novella minho volume publicados i coisas espantosas ii tres irmans iii engeitada iv doze casamentos felizes v esqueleto vi bem mal vii senhor paço ninães viii anathema ix mulher fatal x cavar ruinas xi correspondencia epistolar xii xiii divindade jesus xiv doida candal xv duas horas leitura xvi f...   \n",
       "59  obras camillo castello branco novella minho volume i segunda edição lisboa parceria antonio maria pereira livraria editora rua augusta 50 52 54 1903 obras camillo castello branco edição popular xvii novella minho volume publicados i coisas espantosas ii tres irmans iii engeitada iv doze casamentos felizes v esqueleto vi bem mal vii senhor paço ninães viii anathema ix mulher fatal x cavar ruinas xi correspondencia epistolar xii xiii divindade jesus xiv doida candal xv duas horas leitura xvi f...   \n",
       "60  scenas contemporaneas camillo castello branco 2 edição porto casa cruz coutinho editor rua caldeireiros n 18 20 1862 porto typographia antonio josé silva teixeira rua cancella velha n 62 morrer capricho i amigo certo sabem caçar coelhos neve admira imaginem qualquer aldêa visinhanças marão olhem redor si contemplem quadro viajantes suissa descrevem todos dia supposto nunca sahissem terra primeira impressão recebem assombro leguas roda terra céo descobre crista rochedo frança d'uma arvore dob...   \n",
       "61  scenas contemporaneas camillo castello branco 2 edição porto casa cruz coutinho editor rua caldeireiros n 18 20 1862 porto typographia antonio josé silva teixeira rua cancella velha n 62 morrer capricho i amigo certo sabem caçar coelhos neve admira imaginem qualquer aldêa visinhanças marão olhem redor si contemplem quadro viajantes suissa descrevem todos dia supposto nunca sahissem terra primeira impressão recebem assombro leguas roda terra céo descobre crista rochedo frança d'uma arvore dob...   \n",
       "62  scenas contemporaneas camillo castello branco 2 edição porto casa cruz coutinho editor rua caldeireiros n 18 20 1862 porto typographia antonio josé silva teixeira rua cancella velha n 62 morrer capricho i amigo certo sabem caçar coelhos neve admira imaginem qualquer aldêa visinhanças marão olhem redor si contemplem quadro viajantes suissa descrevem todos dia supposto nunca sahissem terra primeira impressão recebem assombro leguas roda terra céo descobre crista rochedo frança d'uma arvore dob...   \n",
       "\n",
       "    Total_words  ,  \n",
       "0          1173  0  \n",
       "1          1173  0  \n",
       "2           193  0  \n",
       "3           193  0  \n",
       "4          3276  0  \n",
       "..          ... ..  \n",
       "58        39775  0  \n",
       "59        39775  0  \n",
       "60        26441  0  \n",
       "61        26441  0  \n",
       "62        31850  0  \n",
       "\n",
       "[63 rows x 4 columns]"
      ]
     },
     "execution_count": 156,
     "metadata": {},
     "output_type": "execute_result"
    }
   ],
   "source": [
    "update_df(train_df, updates)\n",
    "train_df"
   ]
  },
  {
   "cell_type": "markdown",
   "metadata": {},
   "source": [
    "##\n"
   ]
  },
  {
   "cell_type": "markdown",
   "metadata": {},
   "source": [
    "## Create Bag-of-Words\n",
    "\n",
    "Each word is a feature. Our feature space is defined by our vocabulary. Documents/pieces of text will be represented as sparse vectors."
   ]
  },
  {
   "cell_type": "code",
   "execution_count": 133,
   "metadata": {},
   "outputs": [],
   "source": [
    "from sklearn.feature_extraction.text import CountVectorizer\n",
    "import numpy as np\n",
    "stop = set(stopwords.words('portuguese'))\n",
    "# cv = CountVectorizer(max_df=0.9, binary=True)\n",
    "cv = CountVectorizer(\n",
    "    max_df=0.8,\n",
    "    stop_words=stop,\n",
    "    max_features=10000, \n",
    "    ngram_range=(1,3)\n",
    ")"
   ]
  },
  {
   "cell_type": "code",
   "execution_count": 134,
   "metadata": {},
   "outputs": [],
   "source": [
    "X = cv.fit_transform(train_df[\"Text\"])\n",
    "y = np.array(train_df[\"Author\"])"
   ]
  },
  {
   "cell_type": "code",
   "execution_count": 135,
   "metadata": {},
   "outputs": [
    {
     "data": {
      "text/plain": [
       "(63, 10000)"
      ]
     },
     "execution_count": 135,
     "metadata": {},
     "output_type": "execute_result"
    }
   ],
   "source": [
    "X.shape"
   ]
  },
  {
   "cell_type": "code",
   "execution_count": 136,
   "metadata": {},
   "outputs": [],
   "source": [
    "#list(cv.vocabulary_)[:10]"
   ]
  },
  {
   "cell_type": "code",
   "execution_count": 137,
   "metadata": {},
   "outputs": [
    {
     "data": {
      "text/plain": [
       "['scena',\n",
       " 'odio',\n",
       " 'author',\n",
       " 'almada',\n",
       " 'negreiros',\n",
       " '16',\n",
       " 'alvaro',\n",
       " 'campos',\n",
       " 'poema',\n",
       " 'escripto']"
      ]
     },
     "execution_count": 137,
     "metadata": {},
     "output_type": "execute_result"
    }
   ],
   "source": [
    "list(cv.vocabulary_.keys())[:10]"
   ]
  },
  {
   "cell_type": "code",
   "execution_count": 138,
   "metadata": {},
   "outputs": [],
   "source": [
    "def get_top_n_grams(corpus, top_k, n):\n",
    "    \"\"\"\n",
    "    Function that receives a list of documents (corpus) and extracts\n",
    "        the top k most frequent n-grams for that corpus.\n",
    "        \n",
    "    :param corpus: list of texts\n",
    "    :param top_k: int with the number of n-grams that we want to extract\n",
    "    :param n: n gram type to be considered \n",
    "             (if n=1 extracts unigrams, if n=2 extracts bigrams, ...)\n",
    "             \n",
    "    :return: Returns a sorted dataframe in which the first column \n",
    "        contains the extracted ngrams and the second column contains\n",
    "        the respective counts\n",
    "    \"\"\"\n",
    "    vec = CountVectorizer(ngram_range=(n, n), max_features=2000).fit(corpus)\n",
    "    \n",
    "    bag_of_words = vec.transform(corpus)\n",
    "    \n",
    "    sum_words = bag_of_words.sum(axis=0) \n",
    "    \n",
    "    words_freq = []\n",
    "    for word, idx in vec.vocabulary_.items():\n",
    "        words_freq.append((word, sum_words[0, idx]))\n",
    "        \n",
    "    words_freq = sorted(words_freq, key=lambda x: x[1], reverse=True)\n",
    "    top_df = pd.DataFrame(words_freq[:top_k])\n",
    "    top_df.columns = [\"Ngram\", \"Freq\"]\n",
    "    return top_df"
   ]
  },
  {
   "cell_type": "code",
   "execution_count": 139,
   "metadata": {},
   "outputs": [],
   "source": [
    "#train_df"
   ]
  },
  {
   "cell_type": "code",
   "execution_count": 140,
   "metadata": {},
   "outputs": [],
   "source": [
    "# train_df['Text']"
   ]
  },
  {
   "cell_type": "code",
   "execution_count": 141,
   "metadata": {
    "scrolled": true
   },
   "outputs": [
    {
     "data": {
      "text/html": [
       "<div>\n",
       "<style scoped>\n",
       "    .dataframe tbody tr th:only-of-type {\n",
       "        vertical-align: middle;\n",
       "    }\n",
       "\n",
       "    .dataframe tbody tr th {\n",
       "        vertical-align: top;\n",
       "    }\n",
       "\n",
       "    .dataframe thead th {\n",
       "        text-align: right;\n",
       "    }\n",
       "</style>\n",
       "<table border=\"1\" class=\"dataframe\">\n",
       "  <thead>\n",
       "    <tr style=\"text-align: right;\">\n",
       "      <th></th>\n",
       "      <th>Ngram</th>\n",
       "      <th>Freq</th>\n",
       "    </tr>\n",
       "  </thead>\n",
       "  <tbody>\n",
       "    <tr>\n",
       "      <td>0</td>\n",
       "      <td>elle</td>\n",
       "      <td>6288</td>\n",
       "    </tr>\n",
       "    <tr>\n",
       "      <td>1</td>\n",
       "      <td>ella</td>\n",
       "      <td>5579</td>\n",
       "    </tr>\n",
       "    <tr>\n",
       "      <td>2</td>\n",
       "      <td>disse</td>\n",
       "      <td>4654</td>\n",
       "    </tr>\n",
       "    <tr>\n",
       "      <td>3</td>\n",
       "      <td>ha</td>\n",
       "      <td>3985</td>\n",
       "    </tr>\n",
       "    <tr>\n",
       "      <td>4</td>\n",
       "      <td>ser</td>\n",
       "      <td>3672</td>\n",
       "    </tr>\n",
       "    <tr>\n",
       "      <td>5</td>\n",
       "      <td>dia</td>\n",
       "      <td>3383</td>\n",
       "    </tr>\n",
       "    <tr>\n",
       "      <td>6</td>\n",
       "      <td>casa</td>\n",
       "      <td>3376</td>\n",
       "    </tr>\n",
       "    <tr>\n",
       "      <td>7</td>\n",
       "      <td>onde</td>\n",
       "      <td>3242</td>\n",
       "    </tr>\n",
       "    <tr>\n",
       "      <td>8</td>\n",
       "      <td>homem</td>\n",
       "      <td>3149</td>\n",
       "    </tr>\n",
       "    <tr>\n",
       "      <td>9</td>\n",
       "      <td>ainda</td>\n",
       "      <td>3148</td>\n",
       "    </tr>\n",
       "    <tr>\n",
       "      <td>10</td>\n",
       "      <td>porque</td>\n",
       "      <td>3097</td>\n",
       "    </tr>\n",
       "    <tr>\n",
       "      <td>11</td>\n",
       "      <td>mulher</td>\n",
       "      <td>3042</td>\n",
       "    </tr>\n",
       "    <tr>\n",
       "      <td>12</td>\n",
       "      <td>um</td>\n",
       "      <td>2940</td>\n",
       "    </tr>\n",
       "    <tr>\n",
       "      <td>13</td>\n",
       "      <td>bem</td>\n",
       "      <td>2935</td>\n",
       "    </tr>\n",
       "    <tr>\n",
       "      <td>14</td>\n",
       "      <td>tão</td>\n",
       "      <td>2898</td>\n",
       "    </tr>\n",
       "    <tr>\n",
       "      <td>15</td>\n",
       "      <td>assim</td>\n",
       "      <td>2811</td>\n",
       "    </tr>\n",
       "    <tr>\n",
       "      <td>16</td>\n",
       "      <td>toda</td>\n",
       "      <td>2795</td>\n",
       "    </tr>\n",
       "    <tr>\n",
       "      <td>17</td>\n",
       "      <td>coração</td>\n",
       "      <td>2778</td>\n",
       "    </tr>\n",
       "    <tr>\n",
       "      <td>18</td>\n",
       "      <td>annos</td>\n",
       "      <td>2752</td>\n",
       "    </tr>\n",
       "    <tr>\n",
       "      <td>19</td>\n",
       "      <td>uma</td>\n",
       "      <td>2716</td>\n",
       "    </tr>\n",
       "  </tbody>\n",
       "</table>\n",
       "</div>"
      ],
      "text/plain": [
       "      Ngram  Freq\n",
       "0      elle  6288\n",
       "1      ella  5579\n",
       "2     disse  4654\n",
       "3        ha  3985\n",
       "4       ser  3672\n",
       "5       dia  3383\n",
       "6      casa  3376\n",
       "7      onde  3242\n",
       "8     homem  3149\n",
       "9     ainda  3148\n",
       "10   porque  3097\n",
       "11   mulher  3042\n",
       "12       um  2940\n",
       "13      bem  2935\n",
       "14      tão  2898\n",
       "15    assim  2811\n",
       "16     toda  2795\n",
       "17  coração  2778\n",
       "18    annos  2752\n",
       "19      uma  2716"
      ]
     },
     "execution_count": 141,
     "metadata": {},
     "output_type": "execute_result"
    }
   ],
   "source": [
    "top_df = get_top_n_grams(train_df['Text'], top_k=20, n=1)\n",
    "top_df"
   ]
  },
  {
   "cell_type": "code",
   "execution_count": 142,
   "metadata": {},
   "outputs": [],
   "source": [
    "import numpy as np\n",
    "import matplotlib.pyplot as plt\n",
    "def plot_frequencies(top_df):\n",
    "    \"\"\"\n",
    "    Function that receives a dataframe from the \"get_top_n_grams\" function\n",
    "    and plots the frequencies in a bar plot.\n",
    "    \"\"\"\n",
    "    x_labels = top_df[\"Ngram\"][:30]\n",
    "    y_pos = np.arange(len(x_labels))\n",
    "    values = top_df[\"Freq\"][:30]\n",
    "    plt.bar(y_pos, values, align='center', alpha=0.5)\n",
    "    plt.xticks(y_pos, x_labels)\n",
    "    plt.ylabel('Frequencies')\n",
    "    plt.title('Words')\n",
    "    plt.xticks(rotation=90)\n",
    "    plt.show()"
   ]
  },
  {
   "cell_type": "code",
   "execution_count": 143,
   "metadata": {},
   "outputs": [
    {
     "data": {
      "image/png": "[encoded data removed]",
      "text/plain": [
       "<Figure size 432x288 with 1 Axes>"
      ]
     },
     "metadata": {
      "needs_background": "light"
     },
     "output_type": "display_data"
    }
   ],
   "source": [
    "plot_frequencies(top_df)"
   ]
  },
  {
   "cell_type": "code",
   "execution_count": 144,
   "metadata": {},
   "outputs": [
    {
     "data": {
      "image/png": "[encoded data removed]",
      "text/plain": [
       "<Figure size 432x288 with 1 Axes>"
      ]
     },
     "metadata": {
      "needs_background": "light"
     },
     "output_type": "display_data"
    }
   ],
   "source": [
    "top_df2 = get_top_n_grams(train_df[\"Text\"], top_k=20, n=2)\n",
    "plot_frequencies(top_df)"
   ]
  },
  {
   "cell_type": "code",
   "execution_count": 26,
   "metadata": {},
   "outputs": [
    {
     "data": {
      "image/png": "[encoded data removed]",
      "text/plain": [
       "<Figure size 432x288 with 1 Axes>"
      ]
     },
     "metadata": {
      "needs_background": "light"
     },
     "output_type": "display_data"
    }
   ],
   "source": [
    "\n",
    "\n",
    "\n",
    "top_df3 = get_top_n_grams(train_df[\"Text\"], top_k=20, n=3)\n",
    "plot_frequencies(top_df)"
   ]
  },
  {
   "cell_type": "code",
   "execution_count": 27,
   "metadata": {},
   "outputs": [],
   "source": [
    "#top_df"
   ]
  },
  {
   "cell_type": "markdown",
   "metadata": {},
   "source": [
    "Now that we have all the words, we will try to get the number of words per paragraph"
   ]
  },
  {
   "cell_type": "code",
   "execution_count": 92,
   "metadata": {},
   "outputs": [
    {
     "data": {
      "text/plain": [
       "<bound method NDFrame.tail of                Author  \\\n",
       "0     AlmadaNegreiros   \n",
       "1     AlmadaNegreiros   \n",
       "2     AlmadaNegreiros   \n",
       "3     AlmadaNegreiros   \n",
       "4     AlmadaNegreiros   \n",
       "..                ...   \n",
       "58  LuisaMarquesSilva   \n",
       "59  LuisaMarquesSilva   \n",
       "60  LuisaMarquesSilva   \n",
       "61  LuisaMarquesSilva   \n",
       "62  LuisaMarquesSilva   \n",
       "\n",
       "                                                                                                                                                                                                                                                                                                                                                                                                                                                                                                                   Text  \n",
       "0   title scena odio author josé almada negreiros release date september 16 2007 ebook 22615 language portuguese alvaro campos excerptos poema desbaratado escripto durante três dia três noites durou revolução 14 maio 1915 satanizo tara vara moysés castigo serpentes riso dentes inferno arder cantar vermelho niagára sexos escancarados chicotes cossacos pan demonio trifauce enfermiço gula genio zarathustra taças maré alta raiva medusa damnação sol ladram vida vivê la deram lat la sina agora quero v...  \n",
       "1   title scena odio author josé almada negreiros release date september 16 2007 ebook 22615 language portuguese alvaro campos excerptos poema desbaratado escripto durante três dia três noites durou revolução 14 maio 1915 satanizo tara vara moysés castigo serpentes riso dentes inferno arder cantar vermelho niagára sexos escancarados chicotes cossacos pan demonio trifauce enfermiço gula genio zarathustra taças maré alta raiva medusa damnação sol ladram vida vivê la deram lat la sina agora quero v...  \n",
       "2   title scena odio author josé almada negreiros release date september 16 2007 ebook 22615 language portuguese alvaro campos excerptos poema desbaratado escripto durante três dia três noites durou revolução 14 maio 1915 satanizo tara vara moysés castigo serpentes riso dentes inferno arder cantar vermelho niagára sexos escancarados chicotes cossacos pan demonio trifauce enfermiço gula genio zarathustra taças maré alta raiva medusa damnação sol ladram vida vivê la deram lat la sina agora quero v...  \n",
       "3   title scena odio author josé almada negreiros release date september 16 2007 ebook 22615 language portuguese alvaro campos excerptos poema desbaratado escripto durante três dia três noites durou revolução 14 maio 1915 satanizo tara vara moysés castigo serpentes riso dentes inferno arder cantar vermelho niagára sexos escancarados chicotes cossacos pan demonio trifauce enfermiço gula genio zarathustra taças maré alta raiva medusa damnação sol ladram vida vivê la deram lat la sina agora quero v...  \n",
       "4   title scena odio author josé almada negreiros release date september 16 2007 ebook 22615 language portuguese alvaro campos excerptos poema desbaratado escripto durante três dia três noites durou revolução 14 maio 1915 satanizo tara vara moysés castigo serpentes riso dentes inferno arder cantar vermelho niagára sexos escancarados chicotes cossacos pan demonio trifauce enfermiço gula genio zarathustra taças maré alta raiva medusa damnação sol ladram vida vivê la deram lat la sina agora quero v...  \n",
       "..                                                                                                                                                                                                                                                                                                                                                                                                                                                                                                                  ...  \n",
       "58  engomadeira novela vulgar lisboeta engomadeira josé almada negreiros pintor theatro moinho pintor eduardo afonso viana tragedia 1 ato 23 2 andar snr gualdino gomes 3 atos drama pensão familia joão amaral 2 actos grand guignol lenda d'ignez linda soube rainha m elle m g c m s t prologo 3 atos bailado bailado feira alexandre rey colaço prologo 3 atos bailado le secret poupées original francez 1 ato bailado nota bailados partituras liberetos décors costume etc criações ruy coelho josé pacheko j...  \n",
       "59  engomadeira novela vulgar lisboeta engomadeira josé almada negreiros pintor theatro moinho pintor eduardo afonso viana tragedia 1 ato 23 2 andar snr gualdino gomes 3 atos drama pensão familia joão amaral 2 actos grand guignol lenda d'ignez linda soube rainha m elle m g c m s t prologo 3 atos bailado bailado feira alexandre rey colaço prologo 3 atos bailado le secret poupées original francez 1 ato bailado nota bailados partituras liberetos décors costume etc criações ruy coelho josé pacheko j...  \n",
       "60  engomadeira novela vulgar lisboeta engomadeira josé almada negreiros pintor theatro moinho pintor eduardo afonso viana tragedia 1 ato 23 2 andar snr gualdino gomes 3 atos drama pensão familia joão amaral 2 actos grand guignol lenda d'ignez linda soube rainha m elle m g c m s t prologo 3 atos bailado bailado feira alexandre rey colaço prologo 3 atos bailado le secret poupées original francez 1 ato bailado nota bailados partituras liberetos décors costume etc criações ruy coelho josé pacheko j...  \n",
       "61  engomadeira novela vulgar lisboeta engomadeira josé almada negreiros pintor theatro moinho pintor eduardo afonso viana tragedia 1 ato 23 2 andar snr gualdino gomes 3 atos drama pensão familia joão amaral 2 actos grand guignol lenda d'ignez linda soube rainha m elle m g c m s t prologo 3 atos bailado bailado feira alexandre rey colaço prologo 3 atos bailado le secret poupées original francez 1 ato bailado nota bailados partituras liberetos décors costume etc criações ruy coelho josé pacheko j...  \n",
       "62  engomadeira novela vulgar lisboeta engomadeira josé almada negreiros pintor theatro moinho pintor eduardo afonso viana tragedia 1 ato 23 2 andar snr gualdino gomes 3 atos drama pensão familia joão amaral 2 actos grand guignol lenda d'ignez linda soube rainha m elle m g c m s t prologo 3 atos bailado bailado feira alexandre rey colaço prologo 3 atos bailado le secret poupées original francez 1 ato bailado nota bailados partituras liberetos décors costume etc criações ruy coelho josé pacheko j...  \n",
       "\n",
       "[63 rows x 2 columns]>"
      ]
     },
     "execution_count": 92,
     "metadata": {},
     "output_type": "execute_result"
    }
   ],
   "source": [
    "train_df.tail"
   ]
  },
  {
   "cell_type": "markdown",
   "metadata": {},
   "source": [
    "### Number of words per paragraph and text"
   ]
  },
  {
   "cell_type": "code",
   "execution_count": 148,
   "metadata": {},
   "outputs": [],
   "source": [
    "train_df1 = train_df"
   ]
  },
  {
   "cell_type": "code",
   "execution_count": 149,
   "metadata": {},
   "outputs": [
    {
     "data": {
      "text/html": [
       "<div>\n",
       "<style scoped>\n",
       "    .dataframe tbody tr th:only-of-type {\n",
       "        vertical-align: middle;\n",
       "    }\n",
       "\n",
       "    .dataframe tbody tr th {\n",
       "        vertical-align: top;\n",
       "    }\n",
       "\n",
       "    .dataframe thead th {\n",
       "        text-align: right;\n",
       "    }\n",
       "</style>\n",
       "<table border=\"1\" class=\"dataframe\">\n",
       "  <thead>\n",
       "    <tr style=\"text-align: right;\">\n",
       "      <th></th>\n",
       "      <th>Author</th>\n",
       "      <th>Text</th>\n",
       "      <th>Total_words</th>\n",
       "    </tr>\n",
       "  </thead>\n",
       "  <tbody>\n",
       "    <tr>\n",
       "      <td>0</td>\n",
       "      <td>AlmadaNegreiros</td>\n",
       "      <td>title scena odio author josé almada negreiros release date september 16 2007 ebook 22615 language portuguese alvaro campos excerptos poema desbaratado escripto durante três dia três noites durou revolução 14 maio 1915 satanizo tara vara moysés castigo serpentes riso dentes inferno arder cantar vermelho niagára sexos escancarados chicotes cossacos pan demonio trifauce enfermiço gula genio zarathustra taças maré alta raiva medusa damnação sol ladram vida vivê la deram lat la sina agora quero v...</td>\n",
       "      <td>1173</td>\n",
       "    </tr>\n",
       "    <tr>\n",
       "      <td>1</td>\n",
       "      <td>AlmadaNegreiros</td>\n",
       "      <td>title scena odio author josé almada negreiros release date september 16 2007 ebook 22615 language portuguese alvaro campos excerptos poema desbaratado escripto durante três dia três noites durou revolução 14 maio 1915 satanizo tara vara moysés castigo serpentes riso dentes inferno arder cantar vermelho niagára sexos escancarados chicotes cossacos pan demonio trifauce enfermiço gula genio zarathustra taças maré alta raiva medusa damnação sol ladram vida vivê la deram lat la sina agora quero v...</td>\n",
       "      <td>1173</td>\n",
       "    </tr>\n",
       "    <tr>\n",
       "      <td>2</td>\n",
       "      <td>AlmadaNegreiros</td>\n",
       "      <td>title jardim pierrette author josé almada negreiros release date september 23 2007 ebook 22730 language portuguese argumento bailado pierrot n'aquella noite pensar disse queria morrer pierrot coitado razão dia inteiro ver pierrette viver deitou cançado n'um jardim qualquer havia luz palacio linda menina fazer poi logo quiz deus senhor fôsse jardim pierrette pierrot quiz acreditar ficou contente procurou pedrinha atirou pierrette ouviu espreitou viu ninguem porque pierrot escondido canteiros ...</td>\n",
       "      <td>193</td>\n",
       "    </tr>\n",
       "    <tr>\n",
       "      <td>3</td>\n",
       "      <td>AlmadaNegreiros</td>\n",
       "      <td>title jardim pierrette author josé almada negreiros release date september 23 2007 ebook 22730 language portuguese argumento bailado pierrot n'aquella noite pensar disse queria morrer pierrot coitado razão dia inteiro ver pierrette viver deitou cançado n'um jardim qualquer havia luz palacio linda menina fazer poi logo quiz deus senhor fôsse jardim pierrette pierrot quiz acreditar ficou contente procurou pedrinha atirou pierrette ouviu espreitou viu ninguem porque pierrot escondido canteiros ...</td>\n",
       "      <td>193</td>\n",
       "    </tr>\n",
       "    <tr>\n",
       "      <td>4</td>\n",
       "      <td>AlmadaNegreiros</td>\n",
       "      <td>title invenção dia claro author josé almada negreiros release date september 29 2007 ebook 22801 language portuguese escripta maneira toda espécies orgulho seguida démarches invenção acompanhada confidencias intima geraes ensaios iniciação portuguezes revelação pintura retrato autor elle proprio primeiro milhar lisbôa olisipo apartado 145 1921 nous savons donner notre vie toute entiére tous le jours bénnissons la vie saluons la naissance du travail nouveau le monde n'a pa d'âges l'humanité d...</td>\n",
       "      <td>3276</td>\n",
       "    </tr>\n",
       "    <tr>\n",
       "      <td>...</td>\n",
       "      <td>...</td>\n",
       "      <td>...</td>\n",
       "      <td>...</td>\n",
       "    </tr>\n",
       "    <tr>\n",
       "      <td>58</td>\n",
       "      <td>LuisaMarquesSilva</td>\n",
       "      <td>cidade serra cidade serra i amigo jacintho nasceu n'um palacio cento nove conto renda terras semeadura vinhedo cortiça d'olival alemtejo extremadura atravez duas beira densas sebe ondulando collina valle muros alto boa pedra ribeiras estradas delimitavam campos d'esta velha familia agricola entulhava grão plantava cepa tempo d'el rei d diniz quinta casa senhorial tormes baixo douro cobriam serra tinhela cinco fartas legoas todo torrão pagava fôro cerrados pinheiraes negrejavam desde arga mar...</td>\n",
       "      <td>39775</td>\n",
       "    </tr>\n",
       "    <tr>\n",
       "      <td>59</td>\n",
       "      <td>LuisaMarquesSilva</td>\n",
       "      <td>cidade serra cidade serra i amigo jacintho nasceu n'um palacio cento nove conto renda terras semeadura vinhedo cortiça d'olival alemtejo extremadura atravez duas beira densas sebe ondulando collina valle muros alto boa pedra ribeiras estradas delimitavam campos d'esta velha familia agricola entulhava grão plantava cepa tempo d'el rei d diniz quinta casa senhorial tormes baixo douro cobriam serra tinhela cinco fartas legoas todo torrão pagava fôro cerrados pinheiraes negrejavam desde arga mar...</td>\n",
       "      <td>39775</td>\n",
       "    </tr>\n",
       "    <tr>\n",
       "      <td>60</td>\n",
       "      <td>LuisaMarquesSilva</td>\n",
       "      <td>cartas inglaterra porto livraria chardron lello irmão editores 1905 obras eça queiroz i afghanistan irlanda inglezes experimentando atribulado imperio india verdade d'esse humoristico logar commum seculo xviii historia velhota repete cessar » fado providencia entidade qualquer lá cima dirigiu episodios campanha afghanistan 1847 fazendo simplesmente copia servil revelando assim imaginação exhausta 1847 inglezes razão d'estado necessidade fronteiras scientificas segurança imperio barreira domi...</td>\n",
       "      <td>26441</td>\n",
       "    </tr>\n",
       "    <tr>\n",
       "      <td>61</td>\n",
       "      <td>LuisaMarquesSilva</td>\n",
       "      <td>cartas inglaterra porto livraria chardron lello irmão editores 1905 obras eça queiroz i afghanistan irlanda inglezes experimentando atribulado imperio india verdade d'esse humoristico logar commum seculo xviii historia velhota repete cessar » fado providencia entidade qualquer lá cima dirigiu episodios campanha afghanistan 1847 fazendo simplesmente copia servil revelando assim imaginação exhausta 1847 inglezes razão d'estado necessidade fronteiras scientificas segurança imperio barreira domi...</td>\n",
       "      <td>26441</td>\n",
       "    </tr>\n",
       "    <tr>\n",
       "      <td>62</td>\n",
       "      <td>LuisaMarquesSilva</td>\n",
       "      <td>correspondencia fradique mendes memorias notas porto livraria chardron lello irmão editores 1900 correspondencia fradique mendes fradique mendes memorias notas i intimidade fradique mendes começou 1880 paris paschoa justamente semana elle regressára viagem á africa austral conhecimento porém homem admiravel datava lisboa anno remoto 1867 verão d'esse anno tarde café martinho encontrei n'um numero amarrotado revolução setembro nome c fradique mendes letras enormes baixo verso maravilharam the...</td>\n",
       "      <td>31850</td>\n",
       "    </tr>\n",
       "  </tbody>\n",
       "</table>\n",
       "<p>63 rows × 3 columns</p>\n",
       "</div>"
      ],
      "text/plain": [
       "               Author  \\\n",
       "0     AlmadaNegreiros   \n",
       "1     AlmadaNegreiros   \n",
       "2     AlmadaNegreiros   \n",
       "3     AlmadaNegreiros   \n",
       "4     AlmadaNegreiros   \n",
       "..                ...   \n",
       "58  LuisaMarquesSilva   \n",
       "59  LuisaMarquesSilva   \n",
       "60  LuisaMarquesSilva   \n",
       "61  LuisaMarquesSilva   \n",
       "62  LuisaMarquesSilva   \n",
       "\n",
       "                                                                                                                                                                                                                                                                                                                                                                                                                                                                                                                   Text  \\\n",
       "0   title scena odio author josé almada negreiros release date september 16 2007 ebook 22615 language portuguese alvaro campos excerptos poema desbaratado escripto durante três dia três noites durou revolução 14 maio 1915 satanizo tara vara moysés castigo serpentes riso dentes inferno arder cantar vermelho niagára sexos escancarados chicotes cossacos pan demonio trifauce enfermiço gula genio zarathustra taças maré alta raiva medusa damnação sol ladram vida vivê la deram lat la sina agora quero v...   \n",
       "1   title scena odio author josé almada negreiros release date september 16 2007 ebook 22615 language portuguese alvaro campos excerptos poema desbaratado escripto durante três dia três noites durou revolução 14 maio 1915 satanizo tara vara moysés castigo serpentes riso dentes inferno arder cantar vermelho niagára sexos escancarados chicotes cossacos pan demonio trifauce enfermiço gula genio zarathustra taças maré alta raiva medusa damnação sol ladram vida vivê la deram lat la sina agora quero v...   \n",
       "2   title jardim pierrette author josé almada negreiros release date september 23 2007 ebook 22730 language portuguese argumento bailado pierrot n'aquella noite pensar disse queria morrer pierrot coitado razão dia inteiro ver pierrette viver deitou cançado n'um jardim qualquer havia luz palacio linda menina fazer poi logo quiz deus senhor fôsse jardim pierrette pierrot quiz acreditar ficou contente procurou pedrinha atirou pierrette ouviu espreitou viu ninguem porque pierrot escondido canteiros ...   \n",
       "3   title jardim pierrette author josé almada negreiros release date september 23 2007 ebook 22730 language portuguese argumento bailado pierrot n'aquella noite pensar disse queria morrer pierrot coitado razão dia inteiro ver pierrette viver deitou cançado n'um jardim qualquer havia luz palacio linda menina fazer poi logo quiz deus senhor fôsse jardim pierrette pierrot quiz acreditar ficou contente procurou pedrinha atirou pierrette ouviu espreitou viu ninguem porque pierrot escondido canteiros ...   \n",
       "4   title invenção dia claro author josé almada negreiros release date september 29 2007 ebook 22801 language portuguese escripta maneira toda espécies orgulho seguida démarches invenção acompanhada confidencias intima geraes ensaios iniciação portuguezes revelação pintura retrato autor elle proprio primeiro milhar lisbôa olisipo apartado 145 1921 nous savons donner notre vie toute entiére tous le jours bénnissons la vie saluons la naissance du travail nouveau le monde n'a pa d'âges l'humanité d...   \n",
       "..                                                                                                                                                                                                                                                                                                                                                                                                                                                                                                                  ...   \n",
       "58  cidade serra cidade serra i amigo jacintho nasceu n'um palacio cento nove conto renda terras semeadura vinhedo cortiça d'olival alemtejo extremadura atravez duas beira densas sebe ondulando collina valle muros alto boa pedra ribeiras estradas delimitavam campos d'esta velha familia agricola entulhava grão plantava cepa tempo d'el rei d diniz quinta casa senhorial tormes baixo douro cobriam serra tinhela cinco fartas legoas todo torrão pagava fôro cerrados pinheiraes negrejavam desde arga mar...   \n",
       "59  cidade serra cidade serra i amigo jacintho nasceu n'um palacio cento nove conto renda terras semeadura vinhedo cortiça d'olival alemtejo extremadura atravez duas beira densas sebe ondulando collina valle muros alto boa pedra ribeiras estradas delimitavam campos d'esta velha familia agricola entulhava grão plantava cepa tempo d'el rei d diniz quinta casa senhorial tormes baixo douro cobriam serra tinhela cinco fartas legoas todo torrão pagava fôro cerrados pinheiraes negrejavam desde arga mar...   \n",
       "60  cartas inglaterra porto livraria chardron lello irmão editores 1905 obras eça queiroz i afghanistan irlanda inglezes experimentando atribulado imperio india verdade d'esse humoristico logar commum seculo xviii historia velhota repete cessar » fado providencia entidade qualquer lá cima dirigiu episodios campanha afghanistan 1847 fazendo simplesmente copia servil revelando assim imaginação exhausta 1847 inglezes razão d'estado necessidade fronteiras scientificas segurança imperio barreira domi...   \n",
       "61  cartas inglaterra porto livraria chardron lello irmão editores 1905 obras eça queiroz i afghanistan irlanda inglezes experimentando atribulado imperio india verdade d'esse humoristico logar commum seculo xviii historia velhota repete cessar » fado providencia entidade qualquer lá cima dirigiu episodios campanha afghanistan 1847 fazendo simplesmente copia servil revelando assim imaginação exhausta 1847 inglezes razão d'estado necessidade fronteiras scientificas segurança imperio barreira domi...   \n",
       "62  correspondencia fradique mendes memorias notas porto livraria chardron lello irmão editores 1900 correspondencia fradique mendes fradique mendes memorias notas i intimidade fradique mendes começou 1880 paris paschoa justamente semana elle regressára viagem á africa austral conhecimento porém homem admiravel datava lisboa anno remoto 1867 verão d'esse anno tarde café martinho encontrei n'um numero amarrotado revolução setembro nome c fradique mendes letras enormes baixo verso maravilharam the...   \n",
       "\n",
       "    Total_words  \n",
       "0          1173  \n",
       "1          1173  \n",
       "2           193  \n",
       "3           193  \n",
       "4          3276  \n",
       "..          ...  \n",
       "58        39775  \n",
       "59        39775  \n",
       "60        26441  \n",
       "61        26441  \n",
       "62        31850  \n",
       "\n",
       "[63 rows x 3 columns]"
      ]
     },
     "execution_count": 149,
     "metadata": {},
     "output_type": "execute_result"
    }
   ],
   "source": [
    "train_df1['Total_words'] = [len(x.split()) for x in train_df1['Text'].tolist()]\n",
    "train_df1"
   ]
  },
  {
   "cell_type": "code",
   "execution_count": 150,
   "metadata": {},
   "outputs": [
    {
     "data": {
      "text/plain": [
       "CamiloCasteloBranco    20\n",
       "JoseSaramago           12\n",
       "LuisaMarquesSilva       9\n",
       "AlmadaNegreiros         9\n",
       "JoseRodriguesSantos     8\n",
       "EcaDeQueiros            5\n",
       "Name: Author, dtype: int64"
      ]
     },
     "execution_count": 150,
     "metadata": {},
     "output_type": "execute_result"
    }
   ],
   "source": [
    "train_df1['Author'].value_counts()"
   ]
  },
  {
   "cell_type": "code",
   "execution_count": 151,
   "metadata": {},
   "outputs": [
    {
     "data": {
      "text/plain": [
       "Author               Total_words\n",
       "AlmadaNegreiros      193            2\n",
       "                     345            1\n",
       "                     478            2\n",
       "                     1173           2\n",
       "                     3276           2\n",
       "CamiloCasteloBranco  345            1\n",
       "                     1550           2\n",
       "                     3794           2\n",
       "                     3845           2\n",
       "                     5877           2\n",
       "                     6958           2\n",
       "                     9277           2\n",
       "                     26876          1\n",
       "                     27526          2\n",
       "                     29321          2\n",
       "                     32504          2\n",
       "EcaDeQueiros         7988           2\n",
       "                     26876          1\n",
       "                     29410          2\n",
       "JoseRodriguesSantos  2179           2\n",
       "                     2903           2\n",
       "                     3142           2\n",
       "                     30926          2\n",
       "JoseSaramago         25318          2\n",
       "                     26603          2\n",
       "                     28478          2\n",
       "                     29653          2\n",
       "                     36802          2\n",
       "                     41980          2\n",
       "LuisaMarquesSilva    25174          2\n",
       "                     26441          2\n",
       "                     27920          2\n",
       "                     31850          1\n",
       "                     39775          2\n",
       "dtype: int64"
      ]
     },
     "execution_count": 151,
     "metadata": {},
     "output_type": "execute_result"
    }
   ],
   "source": [
    "train_df1.groupby([\"Author\", \"Total_words\"]).size()"
   ]
  },
  {
   "cell_type": "markdown",
   "metadata": {},
   "source": [
    "### Here we can find de freq of anything (just need to automatise)\n",
    "Let's count each main character that can be important"
   ]
  },
  {
   "cell_type": "code",
   "execution_count": 162,
   "metadata": {},
   "outputs": [],
   "source": [
    "import re\n",
    "train_df1[','] = train_df1.apply(lambda x: len(re.findall(\",\", x.Text)), axis = 1) \n",
    "train_df1['Deus'] = train_df1.apply(lambda x: len(re.findall(\"a\", x.Text)), axis = 1) "
   ]
  },
  {
   "cell_type": "code",
   "execution_count": 165,
   "metadata": {},
   "outputs": [
    {
     "data": {
      "text/html": [
       "<div>\n",
       "<style scoped>\n",
       "    .dataframe tbody tr th:only-of-type {\n",
       "        vertical-align: middle;\n",
       "    }\n",
       "\n",
       "    .dataframe tbody tr th {\n",
       "        vertical-align: top;\n",
       "    }\n",
       "\n",
       "    .dataframe thead th {\n",
       "        text-align: right;\n",
       "    }\n",
       "</style>\n",
       "<table border=\"1\" class=\"dataframe\">\n",
       "  <thead>\n",
       "    <tr style=\"text-align: right;\">\n",
       "      <th></th>\n",
       "      <th>Author</th>\n",
       "      <th>Text</th>\n",
       "      <th>Total_words</th>\n",
       "      <th>,</th>\n",
       "      <th>Deus</th>\n",
       "    </tr>\n",
       "  </thead>\n",
       "  <tbody>\n",
       "    <tr>\n",
       "      <td>0</td>\n",
       "      <td>AlmadaNegreiros</td>\n",
       "      <td>title scena odio author josé almada negreiros release date september 16 2007 ebook 22615 language portuguese alvaro campos excerptos poema desbaratado escripto durante três dia três noites durou revolução 14 maio 1915 satanizo tara vara moysés castigo serpentes riso dentes inferno arder cantar vermelho niagára sexos escancarados chicotes cossacos pan demonio trifauce enfermiço gula genio zarathustra taças maré alta raiva medusa damnação sol ladram vida vivê la deram lat la sina agora quero v...</td>\n",
       "      <td>1173</td>\n",
       "      <td>0</td>\n",
       "      <td>968</td>\n",
       "    </tr>\n",
       "    <tr>\n",
       "      <td>1</td>\n",
       "      <td>AlmadaNegreiros</td>\n",
       "      <td>title scena odio author josé almada negreiros release date september 16 2007 ebook 22615 language portuguese alvaro campos excerptos poema desbaratado escripto durante três dia três noites durou revolução 14 maio 1915 satanizo tara vara moysés castigo serpentes riso dentes inferno arder cantar vermelho niagára sexos escancarados chicotes cossacos pan demonio trifauce enfermiço gula genio zarathustra taças maré alta raiva medusa damnação sol ladram vida vivê la deram lat la sina agora quero v...</td>\n",
       "      <td>1173</td>\n",
       "      <td>0</td>\n",
       "      <td>968</td>\n",
       "    </tr>\n",
       "    <tr>\n",
       "      <td>2</td>\n",
       "      <td>AlmadaNegreiros</td>\n",
       "      <td>title scena odio author josé almada negreiros release date september 16 2007 ebook 22615 language portuguese alvaro campos excerptos poema desbaratado escripto durante três dia três noites durou revolução 14 maio 1915 satanizo tara vara moysés castigo serpentes riso dentes inferno arder cantar vermelho niagára sexos escancarados chicotes cossacos pan demonio trifauce enfermiço gula genio zarathustra taças maré alta raiva medusa damnação sol ladram vida vivê la deram lat la sina agora quero v...</td>\n",
       "      <td>193</td>\n",
       "      <td>0</td>\n",
       "      <td>968</td>\n",
       "    </tr>\n",
       "    <tr>\n",
       "      <td>3</td>\n",
       "      <td>AlmadaNegreiros</td>\n",
       "      <td>title scena odio author josé almada negreiros release date september 16 2007 ebook 22615 language portuguese alvaro campos excerptos poema desbaratado escripto durante três dia três noites durou revolução 14 maio 1915 satanizo tara vara moysés castigo serpentes riso dentes inferno arder cantar vermelho niagára sexos escancarados chicotes cossacos pan demonio trifauce enfermiço gula genio zarathustra taças maré alta raiva medusa damnação sol ladram vida vivê la deram lat la sina agora quero v...</td>\n",
       "      <td>193</td>\n",
       "      <td>0</td>\n",
       "      <td>968</td>\n",
       "    </tr>\n",
       "    <tr>\n",
       "      <td>4</td>\n",
       "      <td>AlmadaNegreiros</td>\n",
       "      <td>title jardim pierrette author josé almada negreiros release date september 23 2007 ebook 22730 language portuguese argumento bailado pierrot n'aquella noite pensar disse queria morrer pierrot coitado razão dia inteiro ver pierrette viver deitou cançado n'um jardim qualquer havia luz palacio linda menina fazer poi logo quiz deus senhor fôsse jardim pierrette pierrot quiz acreditar ficou contente procurou pedrinha atirou pierrette ouviu espreitou viu ninguem porque pierrot escondido canteiros ...</td>\n",
       "      <td>3276</td>\n",
       "      <td>0</td>\n",
       "      <td>136</td>\n",
       "    </tr>\n",
       "    <tr>\n",
       "      <td>...</td>\n",
       "      <td>...</td>\n",
       "      <td>...</td>\n",
       "      <td>...</td>\n",
       "      <td>...</td>\n",
       "      <td>...</td>\n",
       "    </tr>\n",
       "    <tr>\n",
       "      <td>58</td>\n",
       "      <td>LuisaMarquesSilva</td>\n",
       "      <td>obras camillo castello branco novella minho volume i segunda edição lisboa parceria antonio maria pereira livraria editora rua augusta 50 52 54 1903 obras camillo castello branco edição popular xvii novella minho volume publicados i coisas espantosas ii tres irmans iii engeitada iv doze casamentos felizes v esqueleto vi bem mal vii senhor paço ninães viii anathema ix mulher fatal x cavar ruinas xi correspondencia epistolar xii xiii divindade jesus xiv doida candal xv duas horas leitura xvi f...</td>\n",
       "      <td>39775</td>\n",
       "      <td>0</td>\n",
       "      <td>23421</td>\n",
       "    </tr>\n",
       "    <tr>\n",
       "      <td>59</td>\n",
       "      <td>LuisaMarquesSilva</td>\n",
       "      <td>obras camillo castello branco novella minho volume i segunda edição lisboa parceria antonio maria pereira livraria editora rua augusta 50 52 54 1903 obras camillo castello branco edição popular xvii novella minho volume publicados i coisas espantosas ii tres irmans iii engeitada iv doze casamentos felizes v esqueleto vi bem mal vii senhor paço ninães viii anathema ix mulher fatal x cavar ruinas xi correspondencia epistolar xii xiii divindade jesus xiv doida candal xv duas horas leitura xvi f...</td>\n",
       "      <td>39775</td>\n",
       "      <td>0</td>\n",
       "      <td>23421</td>\n",
       "    </tr>\n",
       "    <tr>\n",
       "      <td>60</td>\n",
       "      <td>LuisaMarquesSilva</td>\n",
       "      <td>scenas contemporaneas camillo castello branco 2 edição porto casa cruz coutinho editor rua caldeireiros n 18 20 1862 porto typographia antonio josé silva teixeira rua cancella velha n 62 morrer capricho i amigo certo sabem caçar coelhos neve admira imaginem qualquer aldêa visinhanças marão olhem redor si contemplem quadro viajantes suissa descrevem todos dia supposto nunca sahissem terra primeira impressão recebem assombro leguas roda terra céo descobre crista rochedo frança d'uma arvore dob...</td>\n",
       "      <td>26441</td>\n",
       "      <td>0</td>\n",
       "      <td>24024</td>\n",
       "    </tr>\n",
       "    <tr>\n",
       "      <td>61</td>\n",
       "      <td>LuisaMarquesSilva</td>\n",
       "      <td>scenas contemporaneas camillo castello branco 2 edição porto casa cruz coutinho editor rua caldeireiros n 18 20 1862 porto typographia antonio josé silva teixeira rua cancella velha n 62 morrer capricho i amigo certo sabem caçar coelhos neve admira imaginem qualquer aldêa visinhanças marão olhem redor si contemplem quadro viajantes suissa descrevem todos dia supposto nunca sahissem terra primeira impressão recebem assombro leguas roda terra céo descobre crista rochedo frança d'uma arvore dob...</td>\n",
       "      <td>26441</td>\n",
       "      <td>0</td>\n",
       "      <td>24024</td>\n",
       "    </tr>\n",
       "    <tr>\n",
       "      <td>62</td>\n",
       "      <td>LuisaMarquesSilva</td>\n",
       "      <td>scenas contemporaneas camillo castello branco 2 edição porto casa cruz coutinho editor rua caldeireiros n 18 20 1862 porto typographia antonio josé silva teixeira rua cancella velha n 62 morrer capricho i amigo certo sabem caçar coelhos neve admira imaginem qualquer aldêa visinhanças marão olhem redor si contemplem quadro viajantes suissa descrevem todos dia supposto nunca sahissem terra primeira impressão recebem assombro leguas roda terra céo descobre crista rochedo frança d'uma arvore dob...</td>\n",
       "      <td>31850</td>\n",
       "      <td>0</td>\n",
       "      <td>24024</td>\n",
       "    </tr>\n",
       "  </tbody>\n",
       "</table>\n",
       "<p>63 rows × 5 columns</p>\n",
       "</div>"
      ],
      "text/plain": [
       "               Author  \\\n",
       "0     AlmadaNegreiros   \n",
       "1     AlmadaNegreiros   \n",
       "2     AlmadaNegreiros   \n",
       "3     AlmadaNegreiros   \n",
       "4     AlmadaNegreiros   \n",
       "..                ...   \n",
       "58  LuisaMarquesSilva   \n",
       "59  LuisaMarquesSilva   \n",
       "60  LuisaMarquesSilva   \n",
       "61  LuisaMarquesSilva   \n",
       "62  LuisaMarquesSilva   \n",
       "\n",
       "                                                                                                                                                                                                                                                                                                                                                                                                                                                                                                                   Text  \\\n",
       "0   title scena odio author josé almada negreiros release date september 16 2007 ebook 22615 language portuguese alvaro campos excerptos poema desbaratado escripto durante três dia três noites durou revolução 14 maio 1915 satanizo tara vara moysés castigo serpentes riso dentes inferno arder cantar vermelho niagára sexos escancarados chicotes cossacos pan demonio trifauce enfermiço gula genio zarathustra taças maré alta raiva medusa damnação sol ladram vida vivê la deram lat la sina agora quero v...   \n",
       "1   title scena odio author josé almada negreiros release date september 16 2007 ebook 22615 language portuguese alvaro campos excerptos poema desbaratado escripto durante três dia três noites durou revolução 14 maio 1915 satanizo tara vara moysés castigo serpentes riso dentes inferno arder cantar vermelho niagára sexos escancarados chicotes cossacos pan demonio trifauce enfermiço gula genio zarathustra taças maré alta raiva medusa damnação sol ladram vida vivê la deram lat la sina agora quero v...   \n",
       "2   title scena odio author josé almada negreiros release date september 16 2007 ebook 22615 language portuguese alvaro campos excerptos poema desbaratado escripto durante três dia três noites durou revolução 14 maio 1915 satanizo tara vara moysés castigo serpentes riso dentes inferno arder cantar vermelho niagára sexos escancarados chicotes cossacos pan demonio trifauce enfermiço gula genio zarathustra taças maré alta raiva medusa damnação sol ladram vida vivê la deram lat la sina agora quero v...   \n",
       "3   title scena odio author josé almada negreiros release date september 16 2007 ebook 22615 language portuguese alvaro campos excerptos poema desbaratado escripto durante três dia três noites durou revolução 14 maio 1915 satanizo tara vara moysés castigo serpentes riso dentes inferno arder cantar vermelho niagára sexos escancarados chicotes cossacos pan demonio trifauce enfermiço gula genio zarathustra taças maré alta raiva medusa damnação sol ladram vida vivê la deram lat la sina agora quero v...   \n",
       "4   title jardim pierrette author josé almada negreiros release date september 23 2007 ebook 22730 language portuguese argumento bailado pierrot n'aquella noite pensar disse queria morrer pierrot coitado razão dia inteiro ver pierrette viver deitou cançado n'um jardim qualquer havia luz palacio linda menina fazer poi logo quiz deus senhor fôsse jardim pierrette pierrot quiz acreditar ficou contente procurou pedrinha atirou pierrette ouviu espreitou viu ninguem porque pierrot escondido canteiros ...   \n",
       "..                                                                                                                                                                                                                                                                                                                                                                                                                                                                                                                  ...   \n",
       "58  obras camillo castello branco novella minho volume i segunda edição lisboa parceria antonio maria pereira livraria editora rua augusta 50 52 54 1903 obras camillo castello branco edição popular xvii novella minho volume publicados i coisas espantosas ii tres irmans iii engeitada iv doze casamentos felizes v esqueleto vi bem mal vii senhor paço ninães viii anathema ix mulher fatal x cavar ruinas xi correspondencia epistolar xii xiii divindade jesus xiv doida candal xv duas horas leitura xvi f...   \n",
       "59  obras camillo castello branco novella minho volume i segunda edição lisboa parceria antonio maria pereira livraria editora rua augusta 50 52 54 1903 obras camillo castello branco edição popular xvii novella minho volume publicados i coisas espantosas ii tres irmans iii engeitada iv doze casamentos felizes v esqueleto vi bem mal vii senhor paço ninães viii anathema ix mulher fatal x cavar ruinas xi correspondencia epistolar xii xiii divindade jesus xiv doida candal xv duas horas leitura xvi f...   \n",
       "60  scenas contemporaneas camillo castello branco 2 edição porto casa cruz coutinho editor rua caldeireiros n 18 20 1862 porto typographia antonio josé silva teixeira rua cancella velha n 62 morrer capricho i amigo certo sabem caçar coelhos neve admira imaginem qualquer aldêa visinhanças marão olhem redor si contemplem quadro viajantes suissa descrevem todos dia supposto nunca sahissem terra primeira impressão recebem assombro leguas roda terra céo descobre crista rochedo frança d'uma arvore dob...   \n",
       "61  scenas contemporaneas camillo castello branco 2 edição porto casa cruz coutinho editor rua caldeireiros n 18 20 1862 porto typographia antonio josé silva teixeira rua cancella velha n 62 morrer capricho i amigo certo sabem caçar coelhos neve admira imaginem qualquer aldêa visinhanças marão olhem redor si contemplem quadro viajantes suissa descrevem todos dia supposto nunca sahissem terra primeira impressão recebem assombro leguas roda terra céo descobre crista rochedo frança d'uma arvore dob...   \n",
       "62  scenas contemporaneas camillo castello branco 2 edição porto casa cruz coutinho editor rua caldeireiros n 18 20 1862 porto typographia antonio josé silva teixeira rua cancella velha n 62 morrer capricho i amigo certo sabem caçar coelhos neve admira imaginem qualquer aldêa visinhanças marão olhem redor si contemplem quadro viajantes suissa descrevem todos dia supposto nunca sahissem terra primeira impressão recebem assombro leguas roda terra céo descobre crista rochedo frança d'uma arvore dob...   \n",
       "\n",
       "    Total_words  ,   Deus  \n",
       "0          1173  0    968  \n",
       "1          1173  0    968  \n",
       "2           193  0    968  \n",
       "3           193  0    968  \n",
       "4          3276  0    136  \n",
       "..          ... ..    ...  \n",
       "58        39775  0  23421  \n",
       "59        39775  0  23421  \n",
       "60        26441  0  24024  \n",
       "61        26441  0  24024  \n",
       "62        31850  0  24024  \n",
       "\n",
       "[63 rows x 5 columns]"
      ]
     },
     "execution_count": 165,
     "metadata": {},
     "output_type": "execute_result"
    }
   ],
   "source": [
    "train_df1"
   ]
  },
  {
   "cell_type": "markdown",
   "metadata": {},
   "source": [
    "### TF AND ITF\n",
    "\n",
    "Understand the \"weight\" of each word per text"
   ]
  },
  {
   "cell_type": "code",
   "execution_count": 166,
   "metadata": {},
   "outputs": [
    {
     "data": {
      "text/plain": [
       "TfidfTransformer(norm='l2', smooth_idf=True, sublinear_tf=False, use_idf=True)"
      ]
     },
     "execution_count": 166,
     "metadata": {},
     "output_type": "execute_result"
    }
   ],
   "source": [
    "from sklearn.feature_extraction.text import TfidfTransformer\n",
    "tfidf_vectorizer = TfidfTransformer()\n",
    "tfidf_vectorizer.fit(X)"
   ]
  },
  {
   "cell_type": "code",
   "execution_count": 183,
   "metadata": {},
   "outputs": [],
   "source": [
    "# get feature names\n",
    "feature_names = cv.get_feature_names()\n",
    " \n",
    "# fetch document for which keywords needs to be extracted\n",
    "doc = train_df1['Text'][2]\n",
    " \n",
    "#generate tf-idf for the given document\n",
    "tf_idf_vector = tfidf_vectorizer.transform(cv.transform([doc]))"
   ]
  },
  {
   "cell_type": "code",
   "execution_count": 184,
   "metadata": {},
   "outputs": [
    {
     "data": {
      "text/plain": [
       "array([[0.        , 0.        , 0.        , ..., 0.02276403, 0.        ,\n",
       "        0.        ]])"
      ]
     },
     "execution_count": 184,
     "metadata": {},
     "output_type": "execute_result"
    }
   ],
   "source": [
    "tf_idf_vector.toarray()"
   ]
  },
  {
   "cell_type": "code",
   "execution_count": 185,
   "metadata": {},
   "outputs": [],
   "source": [
    "def extract_feature_scores(feature_names, document_vector):\n",
    "    \"\"\"\n",
    "    Function that creates a dictionary with the TF-IDF score for each feature.\n",
    "    :param feature_names: list with all the feature words.\n",
    "    :param document_vector: vector containing the extracted features for a specific document\n",
    "    \n",
    "    :return: returns a sorted dictionary \"feature\":\"score\".\n",
    "    \"\"\"\n",
    "    feature2score = {}\n",
    "    for i in range(len(feature_names)):\n",
    "        feature2score[feature_names[i]] = document_vector[0][i]    \n",
    "    return sorted(feature2score.items(), key=lambda kv: kv[1], reverse=True)"
   ]
  },
  {
   "cell_type": "code",
   "execution_count": 186,
   "metadata": {},
   "outputs": [
    {
     "data": {
      "text/plain": [
       "[('larga', 0.32016741308033514),\n",
       " ('cantar', 0.22033049548969613),\n",
       " ('vós', 0.20869601945999927),\n",
       " ('nero', 0.18288062722063395),\n",
       " ('la', 0.17622347561213464),\n",
       " ('co', 0.14667899842613283),\n",
       " ('sina', 0.14667899842613283),\n",
       " ('borgia', 0.1418952935998948),\n",
       " ('rabo', 0.13283791551184856),\n",
       " ('genios', 0.12886155046024092)]"
      ]
     },
     "execution_count": 186,
     "metadata": {},
     "output_type": "execute_result"
    }
   ],
   "source": [
    "extract_feature_scores(feature_names, tf_idf_vector.toarray())[:10]"
   ]
  },
  {
   "cell_type": "code",
   "execution_count": 187,
   "metadata": {},
   "outputs": [],
   "source": [
    "tf_idf_vector = tfidf_vectorizer.transform(cv.transform([doc]))"
   ]
  },
  {
   "cell_type": "code",
   "execution_count": 181,
   "metadata": {
    "scrolled": false
   },
   "outputs": [
    {
     "data": {
      "text/plain": [
       "<1x10000 sparse matrix of type '<class 'numpy.float64'>'\n",
       "\twith 409 stored elements in Compressed Sparse Row format>"
      ]
     },
     "execution_count": 181,
     "metadata": {},
     "output_type": "execute_result"
    }
   ],
   "source": [
    "tf_idf_vector "
   ]
  },
  {
   "cell_type": "markdown",
   "metadata": {},
   "source": [
    "### Linear Classifiers"
   ]
  },
  {
   "cell_type": "code",
   "execution_count": null,
   "metadata": {},
   "outputs": [],
   "source": [
    "from sklearn.datasets import fetch_20newsgroups\n",
    "categories = ['alt.atheism', 'talk.religion.misc', 'comp.graphics', 'sci.space']\n",
    "twenty_train = fetch_20newsgroups(subset='train', categories=categories, shuffle=True, random_state=42)"
   ]
  },
  {
   "cell_type": "code",
   "execution_count": 188,
   "metadata": {},
   "outputs": [],
   "source": [
    "import matplotlib.pyplot as plt\n",
    "from tqdm import tqdm_notebook as tqdm\n",
    "import numpy as np\n",
    "\n",
    "class Classifier(object):\n",
    "    \"\"\" Multi Class Classifier base class \"\"\"\n",
    "\n",
    "    def __init__(self, input_size, n_classes):\n",
    "        \"\"\"\n",
    "        Initializes a matrix in which each column will be the Weights for a specific class.\n",
    "        :param input_size: Number of features\n",
    "        :param n_classes: Number of classes to classify the inputs\n",
    "        \"\"\"\n",
    "        self.parameters = np.zeros((input_size+1, n_classes)) # input_size +1 to include the Bias term\n",
    "\n",
    "    def train(self, X, Y, devX, devY, epochs=20):\n",
    "        \"\"\"\n",
    "        This trains the perceptron over a certain number of epoch and records the\n",
    "            accuracy in Train and Dev sets along each epoch.\n",
    "        :param X: numpy array with size DxN where D is the number of training examples\n",
    "                 and N is the number of features.\n",
    "        :param Y: numpy array with size D containing the correct labels for the training set\n",
    "        :param devX (optional): same as X but for the dev set.\n",
    "        :param devY (optional): same as Y but for the dev set.\n",
    "        :param epochs (optional): number of epochs to run.\n",
    "        \"\"\"\n",
    "        train_accuracy = [self.evaluate(X, Y)]\n",
    "        dev_accuracy = [self.evaluate(devX, devY)]\n",
    "        for epoch in range(epochs):\n",
    "            for i in tqdm(range(X.shape[0])):\n",
    "                self.update_weights(X[i, :], Y[i])\n",
    "            train_accuracy.append(self.evaluate(X, Y))\n",
    "            dev_accuracy.append(self.evaluate(devX, devY))\n",
    "        return train_accuracy, dev_accuracy\n",
    "        \n",
    "\n",
    "    def evaluate(self, X, Y):\n",
    "        \"\"\"\n",
    "        Evaluates the error in a given set of examples.\n",
    "        :param X: numpy array with size DxN where D is the number of examples to \n",
    "                    evaluate and N is the number of features.\n",
    "        :param Y: numpy array with size D containing the correct labels for the training set\n",
    "        \"\"\"\n",
    "        correct_predictions = 0\n",
    "        for i in range(X.shape[0]):\n",
    "            y_pred = self.predict(X[i, :])\n",
    "            if Y[i] == y_pred:\n",
    "                correct_predictions += 1\n",
    "        return correct_predictions/X.shape[0]\n",
    "\n",
    "\n",
    "    def plot_train(self, train_accuracy, dev_accuracy):\n",
    "        \"\"\"\n",
    "        Function to Plot the accuracy of the Training set and Dev set per epoch.\n",
    "        :param train_accuracy: list containing the accuracies of the train set.\n",
    "        :param dev_accuracy: list containing the accuracies of the dev set.\n",
    "        \"\"\"\n",
    "        x_axis = [epoch+1 for epoch in range(len(train_accuracy))]\n",
    "        plt.plot(x_axis, train_accuracy, '-g', linewidth=1, label='Train')\n",
    "        plt.xlabel(\"epochs\")\n",
    "        plt.ylabel(\"Accuracy\")\n",
    "        plt.plot(x_axis, dev_accuracy, 'b-', linewidth=1, label='Dev')\n",
    "        plt.legend()\n",
    "        plt.show()\n",
    "\n",
    "\n",
    "    def update_weights(self, x, y):\n",
    "        \"\"\"\n",
    "        Function that will take an input example and the true prediction and will \n",
    "            update the model parameters.\n",
    "        \n",
    "        :param x: Array of size N where N its the number of features that the model \n",
    "                  takes as input.\n",
    "        :param y: The int corresponding to the correct label.\n",
    "        \n",
    "        child classes must implement this function\n",
    "        \"\"\"\n",
    "        pass\n",
    "\n",
    "    def predict(self, x):\n",
    "        \"\"\"\n",
    "        This function will add a Bias value to the received input, multiply the Weights \n",
    "            corresponding to the different classeswith the input vector and choose the \n",
    "            class that maximizes that multiplication.\n",
    "        \n",
    "        :param x: numpy array with size 1xN where N = number of features.\n",
    "        \n",
    "        child classes must implement this function\n",
    "        \"\"\"\n",
    "        pass"
   ]
  }
 ],
 "metadata": {
  "kernelspec": {
   "display_name": "Python 3",
   "language": "python",
   "name": "python3"
  },
  "language_info": {
   "codemirror_mode": {
    "name": "ipython",
    "version": 3
   },
   "file_extension": ".py",
   "mimetype": "text/x-python",
   "name": "python",
   "nbconvert_exporter": "python",
   "pygments_lexer": "ipython3",
   "version": "3.7.3"
  }
 },
 "nbformat": 4,
 "nbformat_minor": 2
}
